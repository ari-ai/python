{
 "cells": [
  {
   "cell_type": "code",
   "execution_count": 1,
   "metadata": {
    "ExecuteTime": {
     "end_time": "2020-11-02T13:03:54.049435Z",
     "start_time": "2020-11-02T13:03:53.996464Z"
    }
   },
   "outputs": [
    {
     "name": "stdout",
     "output_type": "stream",
     "text": [
      " Le volume dans le lecteur C s'appelle Windows\n",
      " Le num‚ro de s‚rie du volume est 5A52-AD0E\n",
      "\n",
      " R‚pertoire de C:\\SimplonIA\\projet1_e_commerce\\raw_data\n",
      "\n",
      "01/11/2020  15:48    <DIR>          .\n",
      "01/11/2020  15:48    <DIR>          ..\n",
      "11/10/2019  21:24           171ÿ352 olist_closed_deals_dataset.csv\n",
      "06/10/2019  20:27         9ÿ033ÿ957 olist_customers_dataset.csv\n",
      "27/08/2020  08:00         4ÿ756ÿ170 olist_customers_dataset.zip\n",
      "06/10/2019  20:27        61ÿ273ÿ883 olist_geolocation_dataset.csv\n",
      "27/08/2020  08:00        15ÿ179ÿ064 olist_geolocation_dataset.zip\n",
      "11/10/2019  21:24           703ÿ836 olist_marketing_qualified_leads_dataset.csv\n",
      "06/10/2019  20:27        17ÿ654ÿ914 olist_orders_dataset.csv\n",
      "27/08/2020  08:00         6ÿ962ÿ019 olist_orders_dataset.zip\n",
      "06/10/2019  20:27        15ÿ438ÿ671 olist_order_items_dataset.csv\n",
      "27/08/2020  08:00         6ÿ589ÿ979 olist_order_items_dataset.zip\n",
      "06/10/2019  20:27         5ÿ777ÿ138 olist_order_payments_dataset.csv\n",
      "27/08/2020  08:00         2ÿ565ÿ951 olist_order_payments_dataset.zip\n",
      "06/10/2019  20:27        14ÿ409ÿ007 olist_order_reviews_dataset.csv\n",
      "27/08/2020  08:00         6ÿ709ÿ231 olist_order_reviews_dataset.zip\n",
      "06/10/2019  20:27         2ÿ379ÿ446 olist_products_dataset.csv\n",
      "27/08/2020  08:00         1ÿ045ÿ349 olist_products_dataset.zip\n",
      "06/10/2019  11:27           174ÿ703 olist_sellers_dataset.csv\n",
      "06/10/2019  11:27             2ÿ613 product_category_name_translation.csv\n",
      "08/09/2020  04:14             1ÿ403 README.md\n",
      "              19 fichier(s)      170ÿ828ÿ686 octets\n",
      "               2 R‚p(s)  174ÿ130ÿ159ÿ616 octets libres\n"
     ]
    }
   ],
   "source": [
    "!dir C:\\SimplonIA\\projet1_e_commerce\\raw_data"
   ]
  },
  {
   "cell_type": "code",
   "execution_count": 2,
   "metadata": {
    "ExecuteTime": {
     "end_time": "2020-11-02T13:03:56.131538Z",
     "start_time": "2020-11-02T13:03:54.053432Z"
    }
   },
   "outputs": [],
   "source": [
    "import pandas as pd\n",
    "from datetime import datetime\n",
    "import seaborn as sns\n",
    "import matplotlib.pyplot as plt\n",
    "\n",
    "import numpy as np\n"
   ]
  },
  {
   "cell_type": "code",
   "execution_count": 3,
   "metadata": {
    "ExecuteTime": {
     "end_time": "2020-11-02T13:03:57.155914Z",
     "start_time": "2020-11-02T13:03:56.134483Z"
    }
   },
   "outputs": [],
   "source": [
    "df_orders = pd.read_csv(r'C:\\SimplonIA\\projet1_e_commerce\\raw_data\\olist_orders_dataset.csv', parse_dates = ['order_purchase_timestamp', \n",
    "                                                                                                      'order_approved_at', \n",
    "                                                                                                      'order_delivered_carrier_date',\n",
    "                                                                                                      'order_delivered_customer_date', \n",
    "                                                                                                      'order_estimated_delivery_date'] )"
   ]
  },
  {
   "cell_type": "code",
   "execution_count": 4,
   "metadata": {
    "ExecuteTime": {
     "end_time": "2020-11-02T13:03:57.642637Z",
     "start_time": "2020-11-02T13:03:57.158895Z"
    }
   },
   "outputs": [],
   "source": [
    "df_reviews = pd.read_csv(r'C:\\SimplonIA\\projet1_e_commerce\\raw_data\\olist_order_reviews_dataset.csv' )"
   ]
  },
  {
   "cell_type": "code",
   "execution_count": 5,
   "metadata": {
    "ExecuteTime": {
     "end_time": "2020-11-02T13:03:57.667606Z",
     "start_time": "2020-11-02T13:03:57.645618Z"
    }
   },
   "outputs": [],
   "source": [
    "df_orders['difference'] =( df_orders['order_estimated_delivery_date'] - df_orders['order_delivered_customer_date'] ).dt.days\n"
   ]
  },
  {
   "cell_type": "code",
   "execution_count": 6,
   "metadata": {
    "ExecuteTime": {
     "end_time": "2020-11-02T13:03:57.709582Z",
     "start_time": "2020-11-02T13:03:57.671602Z"
    }
   },
   "outputs": [
    {
     "data": {
      "text/html": [
       "<div>\n",
       "<style scoped>\n",
       "    .dataframe tbody tr th:only-of-type {\n",
       "        vertical-align: middle;\n",
       "    }\n",
       "\n",
       "    .dataframe tbody tr th {\n",
       "        vertical-align: top;\n",
       "    }\n",
       "\n",
       "    .dataframe thead th {\n",
       "        text-align: right;\n",
       "    }\n",
       "</style>\n",
       "<table border=\"1\" class=\"dataframe\">\n",
       "  <thead>\n",
       "    <tr style=\"text-align: right;\">\n",
       "      <th></th>\n",
       "      <th>difference</th>\n",
       "      <th>order_estimated_delivery_date</th>\n",
       "      <th>order_delivered_customer_date</th>\n",
       "      <th>order_status</th>\n",
       "      <th>order_id</th>\n",
       "    </tr>\n",
       "  </thead>\n",
       "  <tbody>\n",
       "    <tr>\n",
       "      <th>0</th>\n",
       "      <td>7.0</td>\n",
       "      <td>2017-10-18</td>\n",
       "      <td>2017-10-10 21:25:13</td>\n",
       "      <td>delivered</td>\n",
       "      <td>e481f51cbdc54678b7cc49136f2d6af7</td>\n",
       "    </tr>\n",
       "  </tbody>\n",
       "</table>\n",
       "</div>"
      ],
      "text/plain": [
       "   difference order_estimated_delivery_date order_delivered_customer_date  \\\n",
       "0         7.0                    2017-10-18           2017-10-10 21:25:13   \n",
       "\n",
       "  order_status                          order_id  \n",
       "0    delivered  e481f51cbdc54678b7cc49136f2d6af7  "
      ]
     },
     "execution_count": 6,
     "metadata": {},
     "output_type": "execute_result"
    }
   ],
   "source": [
    "df1 = df_orders[['difference', 'order_estimated_delivery_date', 'order_delivered_customer_date','order_status', 'order_id' ]]\n",
    "\n",
    "df1.head(1)"
   ]
  },
  {
   "cell_type": "code",
   "execution_count": 7,
   "metadata": {
    "ExecuteTime": {
     "end_time": "2020-11-02T13:03:57.729572Z",
     "start_time": "2020-11-02T13:03:57.712579Z"
    }
   },
   "outputs": [],
   "source": [
    "df2 = df_reviews[['order_id','review_creation_date', 'review_score', 'review_comment_message']]"
   ]
  },
  {
   "cell_type": "code",
   "execution_count": 8,
   "metadata": {
    "ExecuteTime": {
     "end_time": "2020-11-02T13:03:57.986424Z",
     "start_time": "2020-11-02T13:03:57.735567Z"
    }
   },
   "outputs": [
    {
     "data": {
      "text/html": [
       "<div>\n",
       "<style scoped>\n",
       "    .dataframe tbody tr th:only-of-type {\n",
       "        vertical-align: middle;\n",
       "    }\n",
       "\n",
       "    .dataframe tbody tr th {\n",
       "        vertical-align: top;\n",
       "    }\n",
       "\n",
       "    .dataframe thead th {\n",
       "        text-align: right;\n",
       "    }\n",
       "</style>\n",
       "<table border=\"1\" class=\"dataframe\">\n",
       "  <thead>\n",
       "    <tr style=\"text-align: right;\">\n",
       "      <th></th>\n",
       "      <th>difference</th>\n",
       "      <th>order_estimated_delivery_date</th>\n",
       "      <th>order_delivered_customer_date</th>\n",
       "      <th>order_status</th>\n",
       "      <th>order_id</th>\n",
       "      <th>review_creation_date</th>\n",
       "      <th>review_score</th>\n",
       "      <th>review_comment_message</th>\n",
       "    </tr>\n",
       "  </thead>\n",
       "  <tbody>\n",
       "    <tr>\n",
       "      <th>0</th>\n",
       "      <td>7.0</td>\n",
       "      <td>2017-10-18</td>\n",
       "      <td>2017-10-10 21:25:13</td>\n",
       "      <td>delivered</td>\n",
       "      <td>e481f51cbdc54678b7cc49136f2d6af7</td>\n",
       "      <td>2017-10-11 00:00:00</td>\n",
       "      <td>4</td>\n",
       "      <td>Não testei o produto ainda, mas ele veio corre...</td>\n",
       "    </tr>\n",
       "    <tr>\n",
       "      <th>1</th>\n",
       "      <td>5.0</td>\n",
       "      <td>2018-08-13</td>\n",
       "      <td>2018-08-07 15:27:45</td>\n",
       "      <td>delivered</td>\n",
       "      <td>53cdb2fc8bc7dce0b6741e2150273451</td>\n",
       "      <td>2018-08-08 00:00:00</td>\n",
       "      <td>4</td>\n",
       "      <td>Muito bom o produto.</td>\n",
       "    </tr>\n",
       "  </tbody>\n",
       "</table>\n",
       "</div>"
      ],
      "text/plain": [
       "   difference order_estimated_delivery_date order_delivered_customer_date  \\\n",
       "0         7.0                    2017-10-18           2017-10-10 21:25:13   \n",
       "1         5.0                    2018-08-13           2018-08-07 15:27:45   \n",
       "\n",
       "  order_status                          order_id review_creation_date  \\\n",
       "0    delivered  e481f51cbdc54678b7cc49136f2d6af7  2017-10-11 00:00:00   \n",
       "1    delivered  53cdb2fc8bc7dce0b6741e2150273451  2018-08-08 00:00:00   \n",
       "\n",
       "   review_score                             review_comment_message  \n",
       "0             4  Não testei o produto ainda, mas ele veio corre...  \n",
       "1             4                               Muito bom o produto.  "
      ]
     },
     "execution_count": 8,
     "metadata": {},
     "output_type": "execute_result"
    }
   ],
   "source": [
    "df3 = df1.merge(df2)\n",
    "df3.head(2)"
   ]
  },
  {
   "cell_type": "code",
   "execution_count": 9,
   "metadata": {
    "ExecuteTime": {
     "end_time": "2020-11-02T13:03:58.007410Z",
     "start_time": "2020-11-02T13:03:57.991421Z"
    }
   },
   "outputs": [
    {
     "data": {
      "text/plain": [
       "146.0"
      ]
     },
     "execution_count": 9,
     "metadata": {},
     "output_type": "execute_result"
    }
   ],
   "source": [
    "df3.difference.max()\n"
   ]
  },
  {
   "cell_type": "code",
   "execution_count": 10,
   "metadata": {
    "ExecuteTime": {
     "end_time": "2020-11-02T13:03:58.112352Z",
     "start_time": "2020-11-02T13:03:58.011410Z"
    }
   },
   "outputs": [
    {
     "data": {
      "text/html": [
       "<div>\n",
       "<style scoped>\n",
       "    .dataframe tbody tr th:only-of-type {\n",
       "        vertical-align: middle;\n",
       "    }\n",
       "\n",
       "    .dataframe tbody tr th {\n",
       "        vertical-align: top;\n",
       "    }\n",
       "\n",
       "    .dataframe thead th {\n",
       "        text-align: right;\n",
       "    }\n",
       "</style>\n",
       "<table border=\"1\" class=\"dataframe\">\n",
       "  <thead>\n",
       "    <tr style=\"text-align: right;\">\n",
       "      <th></th>\n",
       "      <th>difference</th>\n",
       "      <th>order_estimated_delivery_date</th>\n",
       "      <th>order_delivered_customer_date</th>\n",
       "      <th>order_status</th>\n",
       "      <th>order_id</th>\n",
       "      <th>review_creation_date</th>\n",
       "      <th>review_score</th>\n",
       "      <th>review_comment_message</th>\n",
       "    </tr>\n",
       "  </thead>\n",
       "  <tbody>\n",
       "    <tr>\n",
       "      <th>55915</th>\n",
       "      <td>-189.0</td>\n",
       "      <td>2018-03-15</td>\n",
       "      <td>2018-09-19 23:24:07</td>\n",
       "      <td>delivered</td>\n",
       "      <td>1b3190b2dfa9d789e1f14c05b647a14a</td>\n",
       "      <td>2018-03-17 00:00:00</td>\n",
       "      <td>2</td>\n",
       "      <td>NaN</td>\n",
       "    </tr>\n",
       "    <tr>\n",
       "      <th>19703</th>\n",
       "      <td>-182.0</td>\n",
       "      <td>2017-03-22</td>\n",
       "      <td>2017-09-19 14:36:39</td>\n",
       "      <td>delivered</td>\n",
       "      <td>ca07593549f1816d26a572e06dc1eab6</td>\n",
       "      <td>2017-03-25 00:00:00</td>\n",
       "      <td>1</td>\n",
       "      <td>uma falta de respeito com o consumidor , estou...</td>\n",
       "    </tr>\n",
       "    <tr>\n",
       "      <th>11465</th>\n",
       "      <td>-176.0</td>\n",
       "      <td>2018-01-19</td>\n",
       "      <td>2018-07-13 20:51:31</td>\n",
       "      <td>delivered</td>\n",
       "      <td>47b40429ed8cce3aee9199792275433f</td>\n",
       "      <td>2018-01-21 00:00:00</td>\n",
       "      <td>1</td>\n",
       "      <td>Gostaria de saber o que aconteceu o prazo que ...</td>\n",
       "    </tr>\n",
       "  </tbody>\n",
       "</table>\n",
       "</div>"
      ],
      "text/plain": [
       "       difference order_estimated_delivery_date order_delivered_customer_date  \\\n",
       "55915      -189.0                    2018-03-15           2018-09-19 23:24:07   \n",
       "19703      -182.0                    2017-03-22           2017-09-19 14:36:39   \n",
       "11465      -176.0                    2018-01-19           2018-07-13 20:51:31   \n",
       "\n",
       "      order_status                          order_id review_creation_date  \\\n",
       "55915    delivered  1b3190b2dfa9d789e1f14c05b647a14a  2018-03-17 00:00:00   \n",
       "19703    delivered  ca07593549f1816d26a572e06dc1eab6  2017-03-25 00:00:00   \n",
       "11465    delivered  47b40429ed8cce3aee9199792275433f  2018-01-21 00:00:00   \n",
       "\n",
       "       review_score                             review_comment_message  \n",
       "55915             2                                                NaN  \n",
       "19703             1  uma falta de respeito com o consumidor , estou...  \n",
       "11465             1  Gostaria de saber o que aconteceu o prazo que ...  "
      ]
     },
     "execution_count": 10,
     "metadata": {},
     "output_type": "execute_result"
    }
   ],
   "source": [
    "\n",
    "df3 = df3.sort_values('difference')\n",
    "df3 = df3.head(500)\n",
    "df3.head(3)"
   ]
  },
  {
   "cell_type": "code",
   "execution_count": 11,
   "metadata": {
    "ExecuteTime": {
     "end_time": "2020-11-02T13:03:58.131346Z",
     "start_time": "2020-11-02T13:03:58.121346Z"
    }
   },
   "outputs": [],
   "source": [
    "dfplot = df3[['review_score', 'difference']]"
   ]
  },
  {
   "cell_type": "code",
   "execution_count": 12,
   "metadata": {
    "ExecuteTime": {
     "end_time": "2020-11-02T13:03:58.142333Z",
     "start_time": "2020-11-02T13:03:58.136337Z"
    }
   },
   "outputs": [],
   "source": [
    "#dfplot.groupby('review_score')"
   ]
  },
  {
   "cell_type": "code",
   "execution_count": 13,
   "metadata": {
    "ExecuteTime": {
     "end_time": "2020-11-02T13:03:59.893539Z",
     "start_time": "2020-11-02T13:03:58.145332Z"
    }
   },
   "outputs": [
    {
     "data": {
      "text/plain": [
       "<seaborn.axisgrid.FacetGrid at 0x2c786acddf0>"
      ]
     },
     "execution_count": 13,
     "metadata": {},
     "output_type": "execute_result"
    },
    {
     "data": {
      "image/png": "[encoded data removed]",
      "text/plain": [
       "<Figure size 1800x360 with 5 Axes>"
      ]
     },
     "metadata": {
      "needs_background": "light"
     },
     "output_type": "display_data"
    }
   ],
   "source": [
    "sns.displot(data=dfplot, x = 'difference', col='review_score')"
   ]
  },
  {
   "cell_type": "code",
   "execution_count": 14,
   "metadata": {
    "ExecuteTime": {
     "end_time": "2020-11-02T13:03:59.905528Z",
     "start_time": "2020-11-02T13:03:59.897532Z"
    }
   },
   "outputs": [],
   "source": [
    "df5 = dfplot.groupby('review_score').agg({'difference':'count'})"
   ]
  },
  {
   "cell_type": "code",
   "execution_count": 15,
   "metadata": {
    "ExecuteTime": {
     "end_time": "2020-11-02T13:03:59.938510Z",
     "start_time": "2020-11-02T13:03:59.910526Z"
    }
   },
   "outputs": [
    {
     "data": {
      "text/html": [
       "<div>\n",
       "<style scoped>\n",
       "    .dataframe tbody tr th:only-of-type {\n",
       "        vertical-align: middle;\n",
       "    }\n",
       "\n",
       "    .dataframe tbody tr th {\n",
       "        vertical-align: top;\n",
       "    }\n",
       "\n",
       "    .dataframe thead th {\n",
       "        text-align: right;\n",
       "    }\n",
       "</style>\n",
       "<table border=\"1\" class=\"dataframe\">\n",
       "  <thead>\n",
       "    <tr style=\"text-align: right;\">\n",
       "      <th></th>\n",
       "      <th>review_score</th>\n",
       "      <th>difference</th>\n",
       "    </tr>\n",
       "  </thead>\n",
       "  <tbody>\n",
       "    <tr>\n",
       "      <th>55915</th>\n",
       "      <td>2</td>\n",
       "      <td>-189.0</td>\n",
       "    </tr>\n",
       "    <tr>\n",
       "      <th>19703</th>\n",
       "      <td>1</td>\n",
       "      <td>-182.0</td>\n",
       "    </tr>\n",
       "    <tr>\n",
       "      <th>11465</th>\n",
       "      <td>1</td>\n",
       "      <td>-176.0</td>\n",
       "    </tr>\n",
       "    <tr>\n",
       "      <th>81858</th>\n",
       "      <td>1</td>\n",
       "      <td>-168.0</td>\n",
       "    </tr>\n",
       "    <tr>\n",
       "      <th>89632</th>\n",
       "      <td>1</td>\n",
       "      <td>-167.0</td>\n",
       "    </tr>\n",
       "    <tr>\n",
       "      <th>...</th>\n",
       "      <td>...</td>\n",
       "      <td>...</td>\n",
       "    </tr>\n",
       "    <tr>\n",
       "      <th>34502</th>\n",
       "      <td>1</td>\n",
       "      <td>-27.0</td>\n",
       "    </tr>\n",
       "    <tr>\n",
       "      <th>61643</th>\n",
       "      <td>1</td>\n",
       "      <td>-27.0</td>\n",
       "    </tr>\n",
       "    <tr>\n",
       "      <th>19958</th>\n",
       "      <td>2</td>\n",
       "      <td>-27.0</td>\n",
       "    </tr>\n",
       "    <tr>\n",
       "      <th>84709</th>\n",
       "      <td>2</td>\n",
       "      <td>-27.0</td>\n",
       "    </tr>\n",
       "    <tr>\n",
       "      <th>99673</th>\n",
       "      <td>1</td>\n",
       "      <td>-27.0</td>\n",
       "    </tr>\n",
       "  </tbody>\n",
       "</table>\n",
       "<p>500 rows × 2 columns</p>\n",
       "</div>"
      ],
      "text/plain": [
       "       review_score  difference\n",
       "55915             2      -189.0\n",
       "19703             1      -182.0\n",
       "11465             1      -176.0\n",
       "81858             1      -168.0\n",
       "89632             1      -167.0\n",
       "...             ...         ...\n",
       "34502             1       -27.0\n",
       "61643             1       -27.0\n",
       "19958             2       -27.0\n",
       "84709             2       -27.0\n",
       "99673             1       -27.0\n",
       "\n",
       "[500 rows x 2 columns]"
      ]
     },
     "execution_count": 15,
     "metadata": {},
     "output_type": "execute_result"
    }
   ],
   "source": [
    "dfplot"
   ]
  },
  {
   "cell_type": "code",
   "execution_count": 176,
   "metadata": {
    "ExecuteTime": {
     "end_time": "2020-11-02T14:48:48.006794Z",
     "start_time": "2020-11-02T14:48:47.977808Z"
    }
   },
   "outputs": [
    {
     "data": {
      "text/html": [
       "<div>\n",
       "<style scoped>\n",
       "    .dataframe tbody tr th:only-of-type {\n",
       "        vertical-align: middle;\n",
       "    }\n",
       "\n",
       "    .dataframe tbody tr th {\n",
       "        vertical-align: top;\n",
       "    }\n",
       "\n",
       "    .dataframe thead th {\n",
       "        text-align: right;\n",
       "    }\n",
       "</style>\n",
       "<table border=\"1\" class=\"dataframe\">\n",
       "  <thead>\n",
       "    <tr style=\"text-align: right;\">\n",
       "      <th></th>\n",
       "      <th>difference</th>\n",
       "      <th>review_score</th>\n",
       "    </tr>\n",
       "  </thead>\n",
       "  <tbody>\n",
       "    <tr>\n",
       "      <th>0</th>\n",
       "      <td>-189.0</td>\n",
       "      <td>1</td>\n",
       "    </tr>\n",
       "    <tr>\n",
       "      <th>1</th>\n",
       "      <td>-182.0</td>\n",
       "      <td>1</td>\n",
       "    </tr>\n",
       "    <tr>\n",
       "      <th>2</th>\n",
       "      <td>-176.0</td>\n",
       "      <td>1</td>\n",
       "    </tr>\n",
       "    <tr>\n",
       "      <th>3</th>\n",
       "      <td>-168.0</td>\n",
       "      <td>1</td>\n",
       "    </tr>\n",
       "    <tr>\n",
       "      <th>4</th>\n",
       "      <td>-167.0</td>\n",
       "      <td>1</td>\n",
       "    </tr>\n",
       "    <tr>\n",
       "      <th>...</th>\n",
       "      <td>...</td>\n",
       "      <td>...</td>\n",
       "    </tr>\n",
       "    <tr>\n",
       "      <th>85</th>\n",
       "      <td>-31.0</td>\n",
       "      <td>15</td>\n",
       "    </tr>\n",
       "    <tr>\n",
       "      <th>86</th>\n",
       "      <td>-30.0</td>\n",
       "      <td>39</td>\n",
       "    </tr>\n",
       "    <tr>\n",
       "      <th>87</th>\n",
       "      <td>-29.0</td>\n",
       "      <td>47</td>\n",
       "    </tr>\n",
       "    <tr>\n",
       "      <th>88</th>\n",
       "      <td>-28.0</td>\n",
       "      <td>40</td>\n",
       "    </tr>\n",
       "    <tr>\n",
       "      <th>89</th>\n",
       "      <td>-27.0</td>\n",
       "      <td>12</td>\n",
       "    </tr>\n",
       "  </tbody>\n",
       "</table>\n",
       "<p>90 rows × 2 columns</p>\n",
       "</div>"
      ],
      "text/plain": [
       "    difference  review_score\n",
       "0       -189.0             1\n",
       "1       -182.0             1\n",
       "2       -176.0             1\n",
       "3       -168.0             1\n",
       "4       -167.0             1\n",
       "..         ...           ...\n",
       "85       -31.0            15\n",
       "86       -30.0            39\n",
       "87       -29.0            47\n",
       "88       -28.0            40\n",
       "89       -27.0            12\n",
       "\n",
       "[90 rows x 2 columns]"
      ]
     },
     "execution_count": 176,
     "metadata": {},
     "output_type": "execute_result"
    }
   ],
   "source": [
    "dfplot2 = dfplot.groupby('difference').agg({'review_score' : 'count'})\n",
    "dfplot2 = dfplot2.reset_index()\n",
    "dfplot2"
   ]
  },
  {
   "cell_type": "code",
   "execution_count": 17,
   "metadata": {
    "ExecuteTime": {
     "end_time": "2020-11-02T13:03:59.975488Z",
     "start_time": "2020-11-02T13:03:59.967493Z"
    }
   },
   "outputs": [
    {
     "data": {
      "text/plain": [
       "numpy.float64"
      ]
     },
     "execution_count": 17,
     "metadata": {},
     "output_type": "execute_result"
    }
   ],
   "source": [
    "type(dfplot2['review_score'][1])"
   ]
  },
  {
   "cell_type": "code",
   "execution_count": 175,
   "metadata": {
    "ExecuteTime": {
     "end_time": "2020-11-02T14:47:03.533548Z",
     "start_time": "2020-11-02T14:47:03.515559Z"
    }
   },
   "outputs": [
    {
     "data": {
      "text/html": [
       "<div>\n",
       "<style scoped>\n",
       "    .dataframe tbody tr th:only-of-type {\n",
       "        vertical-align: middle;\n",
       "    }\n",
       "\n",
       "    .dataframe tbody tr th {\n",
       "        vertical-align: top;\n",
       "    }\n",
       "\n",
       "    .dataframe thead th {\n",
       "        text-align: right;\n",
       "    }\n",
       "</style>\n",
       "<table border=\"1\" class=\"dataframe\">\n",
       "  <thead>\n",
       "    <tr style=\"text-align: right;\">\n",
       "      <th></th>\n",
       "      <th>difference</th>\n",
       "      <th>total de notes</th>\n",
       "    </tr>\n",
       "  </thead>\n",
       "  <tbody>\n",
       "    <tr>\n",
       "      <th>75</th>\n",
       "      <td>-41.0</td>\n",
       "      <td>10</td>\n",
       "    </tr>\n",
       "    <tr>\n",
       "      <th>76</th>\n",
       "      <td>-40.0</td>\n",
       "      <td>6</td>\n",
       "    </tr>\n",
       "    <tr>\n",
       "      <th>77</th>\n",
       "      <td>-39.0</td>\n",
       "      <td>10</td>\n",
       "    </tr>\n",
       "    <tr>\n",
       "      <th>78</th>\n",
       "      <td>-38.0</td>\n",
       "      <td>9</td>\n",
       "    </tr>\n",
       "    <tr>\n",
       "      <th>79</th>\n",
       "      <td>-37.0</td>\n",
       "      <td>16</td>\n",
       "    </tr>\n",
       "    <tr>\n",
       "      <th>80</th>\n",
       "      <td>-36.0</td>\n",
       "      <td>25</td>\n",
       "    </tr>\n",
       "    <tr>\n",
       "      <th>81</th>\n",
       "      <td>-35.0</td>\n",
       "      <td>12</td>\n",
       "    </tr>\n",
       "    <tr>\n",
       "      <th>82</th>\n",
       "      <td>-34.0</td>\n",
       "      <td>20</td>\n",
       "    </tr>\n",
       "    <tr>\n",
       "      <th>83</th>\n",
       "      <td>-33.0</td>\n",
       "      <td>18</td>\n",
       "    </tr>\n",
       "    <tr>\n",
       "      <th>84</th>\n",
       "      <td>-32.0</td>\n",
       "      <td>26</td>\n",
       "    </tr>\n",
       "    <tr>\n",
       "      <th>85</th>\n",
       "      <td>-31.0</td>\n",
       "      <td>15</td>\n",
       "    </tr>\n",
       "    <tr>\n",
       "      <th>86</th>\n",
       "      <td>-30.0</td>\n",
       "      <td>39</td>\n",
       "    </tr>\n",
       "    <tr>\n",
       "      <th>87</th>\n",
       "      <td>-29.0</td>\n",
       "      <td>47</td>\n",
       "    </tr>\n",
       "    <tr>\n",
       "      <th>88</th>\n",
       "      <td>-28.0</td>\n",
       "      <td>40</td>\n",
       "    </tr>\n",
       "    <tr>\n",
       "      <th>89</th>\n",
       "      <td>-27.0</td>\n",
       "      <td>12</td>\n",
       "    </tr>\n",
       "  </tbody>\n",
       "</table>\n",
       "</div>"
      ],
      "text/plain": [
       "    difference  total de notes\n",
       "75       -41.0              10\n",
       "76       -40.0               6\n",
       "77       -39.0              10\n",
       "78       -38.0               9\n",
       "79       -37.0              16\n",
       "80       -36.0              25\n",
       "81       -35.0              12\n",
       "82       -34.0              20\n",
       "83       -33.0              18\n",
       "84       -32.0              26\n",
       "85       -31.0              15\n",
       "86       -30.0              39\n",
       "87       -29.0              47\n",
       "88       -28.0              40\n",
       "89       -27.0              12"
      ]
     },
     "execution_count": 175,
     "metadata": {},
     "output_type": "execute_result"
    }
   ],
   "source": [
    "dfplot2.tail(15)"
   ]
  },
  {
   "cell_type": "code",
   "execution_count": 174,
   "metadata": {
    "ExecuteTime": {
     "end_time": "2020-11-02T14:46:16.572444Z",
     "start_time": "2020-11-02T14:46:16.257641Z"
    }
   },
   "outputs": [
    {
     "data": {
      "image/png": "[encoded data removed]",
      "text/plain": [
       "<Figure size 648x216 with 1 Axes>"
      ]
     },
     "metadata": {},
     "output_type": "display_data"
    }
   ],
   "source": [
    "%matplotlib inline\n",
    "import matplotlib.pyplot as plt\n",
    "plt.style.use('seaborn-darkgrid')\n",
    "import numpy as np\n",
    "\n",
    "sns.set(rc={'figure.figsize':(9,3)})\n",
    "\n",
    "ax = sns.scatterplot(x= 'difference', \n",
    "                      y = 'review_score', marker = '*',\n",
    "                      data = df3)"
   ]
  },
  {
   "cell_type": "code",
   "execution_count": 151,
   "metadata": {
    "ExecuteTime": {
     "end_time": "2020-11-02T14:31:42.582160Z",
     "start_time": "2020-11-02T14:31:42.565188Z"
    }
   },
   "outputs": [
    {
     "data": {
      "text/html": [
       "<div>\n",
       "<style scoped>\n",
       "    .dataframe tbody tr th:only-of-type {\n",
       "        vertical-align: middle;\n",
       "    }\n",
       "\n",
       "    .dataframe tbody tr th {\n",
       "        vertical-align: top;\n",
       "    }\n",
       "\n",
       "    .dataframe thead th {\n",
       "        text-align: right;\n",
       "    }\n",
       "</style>\n",
       "<table border=\"1\" class=\"dataframe\">\n",
       "  <thead>\n",
       "    <tr style=\"text-align: right;\">\n",
       "      <th></th>\n",
       "      <th>difference</th>\n",
       "      <th>total de notes</th>\n",
       "    </tr>\n",
       "  </thead>\n",
       "  <tbody>\n",
       "    <tr>\n",
       "      <th>0</th>\n",
       "      <td>-189.0</td>\n",
       "      <td>1</td>\n",
       "    </tr>\n",
       "    <tr>\n",
       "      <th>1</th>\n",
       "      <td>-182.0</td>\n",
       "      <td>1</td>\n",
       "    </tr>\n",
       "    <tr>\n",
       "      <th>2</th>\n",
       "      <td>-176.0</td>\n",
       "      <td>1</td>\n",
       "    </tr>\n",
       "  </tbody>\n",
       "</table>\n",
       "</div>"
      ],
      "text/plain": [
       "   difference  total de notes\n",
       "0      -189.0               1\n",
       "1      -182.0               1\n",
       "2      -176.0               1"
      ]
     },
     "execution_count": 151,
     "metadata": {},
     "output_type": "execute_result"
    }
   ],
   "source": [
    "dfplot2.rename(columns={'review_score': 'total de notes'}, inplace=True)\n",
    "dfplot2.head(3)"
   ]
  },
  {
   "cell_type": "code",
   "execution_count": null,
   "metadata": {},
   "outputs": [],
   "source": []
  }
 ],
 "metadata": {
  "kernelspec": {
   "display_name": "Python 3",
   "language": "python",
   "name": "python3"
  },
  "language_info": {
   "codemirror_mode": {
    "name": "ipython",
    "version": 3
   },
   "file_extension": ".py",
   "mimetype": "text/x-python",
   "name": "python",
   "nbconvert_exporter": "python",
   "pygments_lexer": "ipython3",
   "version": "3.8.5"
  },
  "toc": {
   "base_numbering": 1,
   "nav_menu": {},
   "number_sections": true,
   "sideBar": true,
   "skip_h1_title": false,
   "title_cell": "Table of Contents",
   "title_sidebar": "Contents",
   "toc_cell": false,
   "toc_position": {
    "height": "calc(100% - 180px)",
    "left": "10px",
    "top": "150px",
    "width": "165px"
   },
   "toc_section_display": true,
   "toc_window_display": true
  }
 },
 "nbformat": 4,
 "nbformat_minor": 4
}
