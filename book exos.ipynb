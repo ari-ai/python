{
 "cells": [
  {
   "cell_type": "markdown",
   "metadata": {},
   "source": [
    "## Mailing Adress"
   ]
  },
  {
   "cell_type": "code",
   "execution_count": 198,
   "metadata": {
    "ExecuteTime": {
     "end_time": "2020-10-31T18:35:47.398128Z",
     "start_time": "2020-10-31T18:35:47.390135Z"
    }
   },
   "outputs": [
    {
     "name": "stdout",
     "output_type": "stream",
     "text": [
      "                       Jane                       \n",
      "                11, rue de la paix                \n",
      "\n",
      "Jane Dubois\n",
      "11, rue de la paix\n",
      "Paris\n",
      "France\n"
     ]
    }
   ],
   "source": [
    "name = 'Jane'\n",
    "adress = \"11, rue de la paix\"\n",
    "\n",
    "print('{:^50}'.format(name))\n",
    "print('{:^50}'.format(adress))\n",
    "\n",
    "\n",
    "li = [\"Jane Dubois\", \n",
    "      \"11, rue de la paix\", \n",
    "      'Paris', \n",
    "      'France']\n",
    "\n",
    "sep = '\\n'\n",
    "line = '_'*10\n",
    "formatage = f\"{sep}{sep.join(li)}\"\n",
    "\n",
    "print(formatage)"
   ]
  },
  {
   "cell_type": "markdown",
   "metadata": {},
   "source": [
    "## Hello"
   ]
  },
  {
   "cell_type": "code",
   "execution_count": 62,
   "metadata": {
    "ExecuteTime": {
     "end_time": "2020-10-31T16:44:08.205721Z",
     "start_time": "2020-10-31T16:44:06.670246Z"
    }
   },
   "outputs": [
    {
     "name": "stdout",
     "output_type": "stream",
     "text": [
      "Enter you name ! \n",
      "A\n",
      "Hello A!\n"
     ]
    }
   ],
   "source": [
    "name = input('Enter you name ! \\n')\n",
    "print('Hello ' + name + '!')"
   ]
  },
  {
   "cell_type": "markdown",
   "metadata": {},
   "source": [
    "## Area of a room"
   ]
  },
  {
   "cell_type": "code",
   "execution_count": 2,
   "metadata": {
    "ExecuteTime": {
     "end_time": "2020-12-04T12:45:10.175443Z",
     "start_time": "2020-12-04T12:45:00.190341Z"
    }
   },
   "outputs": [
    {
     "name": "stdout",
     "output_type": "stream",
     "text": [
      "Enter width of the room (int, float): \n",
      "12.1\n",
      "Enter lengh of the room (int, float) : \n",
      "12.1\n",
      "The area of the room is : 146.41\n"
     ]
    }
   ],
   "source": [
    "width = float(input('Enter width of the room (int, float): \\n'))\n",
    "lengh = float(input('Enter lengh of the room (int, float) : \\n'))\n",
    "\n",
    "res = width * lengh\n",
    "\n",
    "print('The area of the room is :', res)\n"
   ]
  },
  {
   "cell_type": "markdown",
   "metadata": {},
   "source": [
    "## Area of a field"
   ]
  },
  {
   "cell_type": "code",
   "execution_count": 3,
   "metadata": {
    "ExecuteTime": {
     "end_time": "2020-12-04T12:54:56.599628Z",
     "start_time": "2020-12-04T12:45:17.532108Z"
    }
   },
   "outputs": [
    {
     "ename": "KeyboardInterrupt",
     "evalue": "Interrupted by user",
     "output_type": "error",
     "traceback": [
      "\u001b[1;31m---------------------------------------------------------------------------\u001b[0m",
      "\u001b[1;31mKeyboardInterrupt\u001b[0m                         Traceback (most recent call last)",
      "\u001b[1;32m<ipython-input-3-3555661e5f21>\u001b[0m in \u001b[0;36m<module>\u001b[1;34m\u001b[0m\n\u001b[1;32m----> 1\u001b[1;33m \u001b[0mlength\u001b[0m \u001b[1;33m=\u001b[0m \u001b[0mfloat\u001b[0m\u001b[1;33m(\u001b[0m\u001b[0minput\u001b[0m\u001b[1;33m(\u001b[0m\u001b[1;34m'Enter length : \\n'\u001b[0m\u001b[1;33m)\u001b[0m\u001b[1;33m)\u001b[0m\u001b[1;33m\u001b[0m\u001b[1;33m\u001b[0m\u001b[0m\n\u001b[0m\u001b[0;32m      2\u001b[0m \u001b[0mwidth\u001b[0m \u001b[1;33m=\u001b[0m  \u001b[0mfloat\u001b[0m\u001b[1;33m(\u001b[0m\u001b[0minput\u001b[0m\u001b[1;33m(\u001b[0m\u001b[1;34m'Enter width : \\n'\u001b[0m\u001b[1;33m)\u001b[0m\u001b[1;33m)\u001b[0m\u001b[1;33m\u001b[0m\u001b[1;33m\u001b[0m\u001b[0m\n\u001b[0;32m      3\u001b[0m \u001b[1;33m\u001b[0m\u001b[0m\n\u001b[0;32m      4\u001b[0m \u001b[0marea\u001b[0m \u001b[1;33m=\u001b[0m \u001b[0mlength\u001b[0m \u001b[1;33m*\u001b[0m \u001b[0mwidth\u001b[0m\u001b[1;33m\u001b[0m\u001b[1;33m\u001b[0m\u001b[0m\n\u001b[0;32m      5\u001b[0m \u001b[1;33m\u001b[0m\u001b[0m\n",
      "\u001b[1;32m~\\anaconda3\\envs\\serpentard\\lib\\site-packages\\ipykernel\\kernelbase.py\u001b[0m in \u001b[0;36mraw_input\u001b[1;34m(self, prompt)\u001b[0m\n\u001b[0;32m    858\u001b[0m                 \u001b[1;34m\"raw_input was called, but this frontend does not support input requests.\"\u001b[0m\u001b[1;33m\u001b[0m\u001b[1;33m\u001b[0m\u001b[0m\n\u001b[0;32m    859\u001b[0m             )\n\u001b[1;32m--> 860\u001b[1;33m         return self._input_request(str(prompt),\n\u001b[0m\u001b[0;32m    861\u001b[0m             \u001b[0mself\u001b[0m\u001b[1;33m.\u001b[0m\u001b[0m_parent_ident\u001b[0m\u001b[1;33m,\u001b[0m\u001b[1;33m\u001b[0m\u001b[1;33m\u001b[0m\u001b[0m\n\u001b[0;32m    862\u001b[0m             \u001b[0mself\u001b[0m\u001b[1;33m.\u001b[0m\u001b[0m_parent_header\u001b[0m\u001b[1;33m,\u001b[0m\u001b[1;33m\u001b[0m\u001b[1;33m\u001b[0m\u001b[0m\n",
      "\u001b[1;32m~\\anaconda3\\envs\\serpentard\\lib\\site-packages\\ipykernel\\kernelbase.py\u001b[0m in \u001b[0;36m_input_request\u001b[1;34m(self, prompt, ident, parent, password)\u001b[0m\n\u001b[0;32m    902\u001b[0m             \u001b[1;32mexcept\u001b[0m \u001b[0mKeyboardInterrupt\u001b[0m\u001b[1;33m:\u001b[0m\u001b[1;33m\u001b[0m\u001b[1;33m\u001b[0m\u001b[0m\n\u001b[0;32m    903\u001b[0m                 \u001b[1;31m# re-raise KeyboardInterrupt, to truncate traceback\u001b[0m\u001b[1;33m\u001b[0m\u001b[1;33m\u001b[0m\u001b[1;33m\u001b[0m\u001b[0m\n\u001b[1;32m--> 904\u001b[1;33m                 \u001b[1;32mraise\u001b[0m \u001b[0mKeyboardInterrupt\u001b[0m\u001b[1;33m(\u001b[0m\u001b[1;34m\"Interrupted by user\"\u001b[0m\u001b[1;33m)\u001b[0m \u001b[1;32mfrom\u001b[0m \u001b[1;32mNone\u001b[0m\u001b[1;33m\u001b[0m\u001b[1;33m\u001b[0m\u001b[0m\n\u001b[0m\u001b[0;32m    905\u001b[0m             \u001b[1;32mexcept\u001b[0m \u001b[0mException\u001b[0m \u001b[1;32mas\u001b[0m \u001b[0me\u001b[0m\u001b[1;33m:\u001b[0m\u001b[1;33m\u001b[0m\u001b[1;33m\u001b[0m\u001b[0m\n\u001b[0;32m    906\u001b[0m                 \u001b[0mself\u001b[0m\u001b[1;33m.\u001b[0m\u001b[0mlog\u001b[0m\u001b[1;33m.\u001b[0m\u001b[0mwarning\u001b[0m\u001b[1;33m(\u001b[0m\u001b[1;34m\"Invalid Message:\"\u001b[0m\u001b[1;33m,\u001b[0m \u001b[0mexc_info\u001b[0m\u001b[1;33m=\u001b[0m\u001b[1;32mTrue\u001b[0m\u001b[1;33m)\u001b[0m\u001b[1;33m\u001b[0m\u001b[1;33m\u001b[0m\u001b[0m\n",
      "\u001b[1;31mKeyboardInterrupt\u001b[0m: Interrupted by user"
     ]
    }
   ],
   "source": [
    "length = float(input('Enter length : \\n'))\n",
    "width =  float(input('Enter width : \\n'))\n",
    "\n",
    "area = length * width\n",
    "\n",
    "print('The area is :', area, 'acres')"
   ]
  },
  {
   "cell_type": "markdown",
   "metadata": {},
   "source": [
    "## Bottle deposits"
   ]
  },
  {
   "cell_type": "code",
   "execution_count": 204,
   "metadata": {
    "ExecuteTime": {
     "end_time": "2020-10-31T18:38:11.800845Z",
     "start_time": "2020-10-31T18:38:09.430390Z"
    }
   },
   "outputs": [
    {
     "name": "stdout",
     "output_type": "stream",
     "text": [
      "Number of small bottles? \n",
      "12\n",
      "Number of big bottles? \n",
      "2\n",
      "Youve earned 1.7000000000000002 $\n"
     ]
    }
   ],
   "source": [
    "b_small = int(input('Number of small bottles? \\n'))\n",
    "b_large = int(input('Number of big bottles? \\n'))\n",
    "\n",
    "b_small = b_small*0.10\n",
    "b_large = b_large*0.25\n",
    "\n",
    "res = b_small+b_large\n",
    "\n",
    "print ('You''ve earned', res, '$')\n"
   ]
  },
  {
   "cell_type": "markdown",
   "metadata": {},
   "source": [
    "## Tax and tip"
   ]
  },
  {
   "cell_type": "code",
   "execution_count": 4,
   "metadata": {
    "ExecuteTime": {
     "end_time": "2020-12-04T12:55:00.993587Z",
     "start_time": "2020-12-04T12:54:58.235428Z"
    }
   },
   "outputs": [
    {
     "name": "stdout",
     "output_type": "stream",
     "text": [
      "What was the bill? \n",
      "209\n",
      "Bill : 209.0\n",
      "Tax : 41.800000000000004\n",
      "Tip : 29.26\n"
     ]
    }
   ],
   "source": [
    "bill = float(input('What was the bill? \\n'))\n",
    "\n",
    "tax = bill*0.20\n",
    "tip = bill*0.14\n",
    "\n",
    "print('Bill : {}'.format(bill))\n",
    "print('Tax : {}'.format(tax))\n",
    "print('Tip : {}'.format(tip))\n"
   ]
  },
  {
   "cell_type": "markdown",
   "metadata": {
    "ExecuteTime": {
     "end_time": "2020-10-31T22:46:24.470425Z",
     "start_time": "2020-10-31T22:44:20.234Z"
    }
   },
   "source": [
    "## Sum of the first n positive integers\n",
    "\n",
    "Write a program that reads a positive integer, n, from the user and then displays the\n",
    "sum of all of the integers from 1 to n. The sum of the first n positive integers can be\n",
    "computed using the formula:\n",
    "sum = (n)(n + 1)\n",
    "2"
   ]
  },
  {
   "cell_type": "code",
   "execution_count": 6,
   "metadata": {
    "ExecuteTime": {
     "end_time": "2020-12-04T12:55:24.256519Z",
     "start_time": "2020-12-04T12:55:22.890539Z"
    }
   },
   "outputs": [
    {
     "name": "stdout",
     "output_type": "stream",
     "text": [
      "Write a number \n",
      "3\n"
     ]
    },
    {
     "data": {
      "text/plain": [
       "6.0"
      ]
     },
     "execution_count": 6,
     "metadata": {},
     "output_type": "execute_result"
    }
   ],
   "source": [
    "number = int(input('Write a number \\n'))\n",
    "\n",
    "for i in range(number):\n",
    "        sum = (number * (number+1))/2\n",
    "\n",
    "sum\n"
   ]
  },
  {
   "cell_type": "markdown",
   "metadata": {
    "ExecuteTime": {
     "end_time": "2020-10-31T23:05:16.613373Z",
     "start_time": "2020-10-31T23:05:16.610373Z"
    }
   },
   "source": [
    "## Widgets and gizmos"
   ]
  },
  {
   "cell_type": "code",
   "execution_count": 235,
   "metadata": {
    "ExecuteTime": {
     "end_time": "2020-10-31T23:08:50.994007Z",
     "start_time": "2020-10-31T23:08:49.330839Z"
    }
   },
   "outputs": [
    {
     "name": "stdout",
     "output_type": "stream",
     "text": [
      "Number of widgets : \n",
      "2\n",
      "Number of gizmos : \n",
      "3\n",
      "The total weight is  486 grams ! \n"
     ]
    }
   ],
   "source": [
    "widgets = 75\n",
    "gizmos = 112\n",
    "\n",
    "nb_widgets = int(input('Number of widgets : \\n'))\n",
    "nb_gizmos = int(input('Number of gizmos : \\n'))\n",
    "\n",
    "total_weight = nb_widgets * 75 + nb_gizmos * 112\n",
    "\n",
    "print ('The total weight is ', total_weight, 'grams ! ')"
   ]
  },
  {
   "cell_type": "markdown",
   "metadata": {},
   "source": [
    "## Compound Interest"
   ]
  },
  {
   "cell_type": "code",
   "execution_count": 276,
   "metadata": {
    "ExecuteTime": {
     "end_time": "2020-10-31T23:48:15.237243Z",
     "start_time": "2020-10-31T23:48:13.681168Z"
    }
   },
   "outputs": [
    {
     "name": "stdout",
     "output_type": "stream",
     "text": [
      "Enter the savings amount : \n",
      "234\n",
      "New saving : 243.36 €\n",
      "New saving : 252.72 €\n",
      "New saving : 262.08 €\n"
     ]
    }
   ],
   "source": [
    "savings = float(input('Enter the savings amount : \\n'))\n",
    "percent = (savings / 100 )* 4\n",
    "\n",
    "year = 0\n",
    "\n",
    "while year < 3  :\n",
    "    savings = savings + percent\n",
    "    print('New saving : {:0.2f} €'.format(savings))\n",
    "    year = year + 1\n",
    "\n"
   ]
  },
  {
   "cell_type": "markdown",
   "metadata": {
    "ExecuteTime": {
     "end_time": "2020-10-31T23:48:40.553657Z",
     "start_time": "2020-10-31T23:48:40.550658Z"
    }
   },
   "source": [
    "## Arithmetic"
   ]
  },
  {
   "cell_type": "code",
   "execution_count": 7,
   "metadata": {
    "ExecuteTime": {
     "end_time": "2020-12-04T12:59:12.068283Z",
     "start_time": "2020-12-04T12:59:05.143615Z"
    }
   },
   "outputs": [
    {
     "name": "stdout",
     "output_type": "stream",
     "text": [
      "Enter value of var #1 : \n",
      " 293\n",
      "Enter value of var #2 : \n",
      " 12.2\n",
      "Addition     :   305.2   \n",
      "Substraction :   280.8   \n",
      "Product      :   3574.6  \n",
      "Quotient     : 24.016393442622952\n",
      "Reminder     : 0.20000000000001705\n",
      "Log          : 2.4668676203541096\n",
      "Power        : 1.2467660516888561e+30\n"
     ]
    }
   ],
   "source": [
    "import math\n",
    "\n",
    "\n",
    "var1 = float(input('Enter value of var #1 : \\n '))\n",
    "var2 = float(input('Enter value of var #2 : \\n '))\n",
    "\n",
    "add = var1 + var2\n",
    "sub = var1 - var2\n",
    "prod = var1 * var2\n",
    "quot = var1 / var2\n",
    "rem = var1 % var2\n",
    "log = math.log10( var1 )\n",
    "power = var1 ** var2\n",
    "\n",
    "\n",
    "print('Addition     : {:^10}'.format(add))\n",
    "print('Substraction : {:^10}'.format(sub))\n",
    "print('Product      : {:^10}'.format(prod))\n",
    "print('Quotient     : {:^10}'.format(quot))\n",
    "print('Reminder     : {:^10}'.format(rem))\n",
    "print('Log          : {:^10}'.format(log))\n",
    "print('Power        : {:^10}'.format(power))\n"
   ]
  },
  {
   "cell_type": "markdown",
   "metadata": {},
   "source": [
    "## Fuel Efficiency"
   ]
  },
  {
   "cell_type": "markdown",
   "metadata": {},
   "source": [
    "In the United States, fuel efficiency for vehicles is normally expressed in miles-pergallon (MPG). \\n\n",
    "In Canada, fuel efficiency is normally expressed in liters-per-hundred \n",
    "kilometers (L/100 km). \\n\n",
    "Use your research skills to determine how to convert from \n",
    "MPG to L/100 km. \\n\n",
    "Then create a program that reads a value from the user \\n in American\n",
    "units and displays the equivalent fuel efficiency in Canadian units"
   ]
  },
  {
   "cell_type": "code",
   "execution_count": 15,
   "metadata": {
    "ExecuteTime": {
     "end_time": "2020-12-04T13:10:21.634288Z",
     "start_time": "2020-12-04T13:10:20.256906Z"
    }
   },
   "outputs": [
    {
     "name": "stdout",
     "output_type": "stream",
     "text": [
      "Enter the value in mpg : 3\n",
      "127.54320000000001\n"
     ]
    }
   ],
   "source": [
    "a = float(input('Enter the value in mpg : '))\n",
    "mpg = 0.425144\n",
    "mpg = mpg * 100\n",
    "res = a * mpg\n",
    "print(res)\n"
   ]
  },
  {
   "cell_type": "markdown",
   "metadata": {},
   "source": [
    "## Distance Between Two Points on Earth"
   ]
  },
  {
   "cell_type": "markdown",
   "metadata": {},
   "source": [
    "distance = 6371.01 × arccos(sin(t1) × sin(t2) + cos(t1) × cos(t2) × cos(g1 − g2))\n",
    "\n",
    "Hint: Python’s trigonometric functions operate in radians. As a result, you will\n",
    "need to convert the user’s input from degrees to radians before computing the\n",
    "distance with the formula discussed previously. The math module contains a\n",
    "function named radians which converts from degrees to radians."
   ]
  },
  {
   "cell_type": "code",
   "execution_count": 25,
   "metadata": {
    "ExecuteTime": {
     "end_time": "2020-12-04T14:26:44.696602Z",
     "start_time": "2020-12-04T14:26:42.330422Z"
    }
   },
   "outputs": [
    {
     "name": "stdout",
     "output_type": "stream",
     "text": [
      "Enter latitude of the point A : 1\n",
      "Enter longitude of the point A :1\n",
      "Enter latitude of the point B : 1\n",
      "Enter longitude of the point B : 1\n",
      "nan\n"
     ]
    },
    {
     "name": "stderr",
     "output_type": "stream",
     "text": [
      "<ipython-input-25-fb6aed8b8bfa>:11: RuntimeWarning: invalid value encountered in arccos\n",
      "  res = np.arccos(b)\n"
     ]
    }
   ],
   "source": [
    "import math\n",
    "import numpy as np\n",
    "\n",
    "t1 = float(input('Enter latitude of the point A : '))\n",
    "g1 = float(input('Enter longitude of the point A :'))\n",
    "t2 = float(input('Enter latitude of the point B : '))\n",
    "g2 = float(input('Enter longitude of the point B : '))\n",
    "\n",
    "a = g1 - g2\n",
    "b = math.sin(t1) * math.sin(t2) + math.cos(t2) * math.cos(a)\n",
    "res = np.arccos(b)\n",
    "\n",
    "distance = 6371.01 * res\n",
    "\n",
    "print(math.radians(distance))"
   ]
  },
  {
   "cell_type": "markdown",
   "metadata": {},
   "source": [
    "## Making Change"
   ]
  },
  {
   "cell_type": "code",
   "execution_count": 34,
   "metadata": {
    "ExecuteTime": {
     "end_time": "2020-12-04T15:44:51.765137Z",
     "start_time": "2020-12-04T15:44:49.564397Z"
    }
   },
   "outputs": [
    {
     "name": "stdout",
     "output_type": "stream",
     "text": [
      "What was the total price? : 12\n",
      "How much did you give to the seller? : 32\n",
      "***************\n",
      "total : 12.0 \n",
      "given amount : 32.0 \n",
      "change : 20.0 \n",
      "***************\n",
      "0.2\n"
     ]
    }
   ],
   "source": [
    "total = float(input('What was the total price? : '))\n",
    "amount = float(input('How much did you give to the seller? : '))\n",
    "change = amount - total\n",
    "\n",
    "print ('*'*15)\n",
    "print('total : {:^5}'.format(total))\n",
    "print('given amount : {:^5}'.format(amount))\n",
    "print('change : {:^5}'.format(change))\n",
    "print ('*'*15)\n",
    "\n",
    "cents = 1\n",
    "euro = 100 * cents\n"
   ]
  },
  {
   "cell_type": "code",
   "execution_count": null,
   "metadata": {},
   "outputs": [],
   "source": []
  }
 ],
 "metadata": {
  "kernelspec": {
   "display_name": "Python 3",
   "language": "python",
   "name": "python3"
  },
  "language_info": {
   "codemirror_mode": {
    "name": "ipython",
    "version": 3
   },
   "file_extension": ".py",
   "mimetype": "text/x-python",
   "name": "python",
   "nbconvert_exporter": "python",
   "pygments_lexer": "ipython3",
   "version": "3.8.5"
  },
  "toc": {
   "base_numbering": 1,
   "nav_menu": {},
   "number_sections": true,
   "sideBar": true,
   "skip_h1_title": false,
   "title_cell": "Table of Contents",
   "title_sidebar": "Contents",
   "toc_cell": false,
   "toc_position": {
    "height": "calc(100% - 180px)",
    "left": "10px",
    "top": "150px",
    "width": "165px"
   },
   "toc_section_display": true,
   "toc_window_display": true
  }
 },
 "nbformat": 4,
 "nbformat_minor": 4
}
